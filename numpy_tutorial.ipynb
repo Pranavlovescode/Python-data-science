{
 "cells": [
  {
   "cell_type": "markdown",
   "id": "8e261641-81d6-4452-bbd9-1bff4f859726",
   "metadata": {},
   "source": [
    "# Basic NumPy intro"
   ]
  },
  {
   "cell_type": "code",
   "execution_count": 1,
   "id": "7c9f8469-f5c8-46be-9cf6-575c3018b29a",
   "metadata": {},
   "outputs": [
    {
     "name": "stdout",
     "output_type": "stream",
     "text": [
      "[1 2 3 4 5 6 7 8]\n"
     ]
    }
   ],
   "source": [
    "import numpy as np # This is alias\n",
    "\n",
    "ml=[1,2,3,4,5,6,7,8]\n",
    "a=np.array(ml,dtype=int)\n",
    "print(a)"
   ]
  },
  {
   "cell_type": "code",
   "execution_count": 22,
   "id": "85f4e2e9-879a-4397-9fe3-84d1ffd16ab6",
   "metadata": {},
   "outputs": [
    {
     "name": "stdout",
     "output_type": "stream",
     "text": [
      "[[1 2 3 4]\n",
      " [5 6 7 8]]\n"
     ]
    }
   ],
   "source": [
    "arr=a.reshape(2,4)\n",
    "print(arr)"
   ]
  },
  {
   "cell_type": "markdown",
   "id": "73235221-7b1e-4421-b932-d56c0b0bf8f8",
   "metadata": {},
   "source": [
    "# Multi-Dimension Array\n"
   ]
  },
  {
   "cell_type": "code",
   "execution_count": 31,
   "id": "528cfdcd-80fd-486d-b0c9-9eb518c2e2e7",
   "metadata": {},
   "outputs": [
    {
     "name": "stdout",
     "output_type": "stream",
     "text": [
      "[ 0  1  2  3  4  5  6  7  8  9 10 11 12 13 14]\n"
     ]
    }
   ],
   "source": [
    "\n",
    "print(np.array(np.arange(0,15)))"
   ]
  },
  {
   "cell_type": "code",
   "execution_count": 38,
   "id": "3af45db9-0cd7-406c-a0d8-12a24b285fe9",
   "metadata": {},
   "outputs": [],
   "source": [
    "t1 = (1, 2, \"tuple\", 4)\n",
    "t2 = (5, 6, 7)\n",
    "x=t2[t1[1]]\n",
    "t3=(list(t1),list(t2))\n",
    "t3=(t1,t2)\n",
    "t3=t1+t2"
   ]
  },
  {
   "cell_type": "code",
   "execution_count": 41,
   "id": "05f3cb04-ad73-40c5-a2e5-ab8604b434e8",
   "metadata": {},
   "outputs": [],
   "source": [
    "student = {'name': 'Jane', 'age': 25, 'courses': ['Math', 'Statistics']}\n",
    "student.update({'age' : 26, 'phone': '123-456'})\n",
    "student['phone'] = '123-456'\n",
    "student.update({'age' : 26})"
   ]
  },
  {
   "cell_type": "code",
   "execution_count": null,
   "id": "31cb1de2-ee45-44ec-bb56-cee0d8b90642",
   "metadata": {},
   "outputs": [],
   "source": []
  }
 ],
 "metadata": {
  "kernelspec": {
   "display_name": "Python 3 (ipykernel)",
   "language": "python",
   "name": "python3"
  }
 },
 "nbformat": 4,
 "nbformat_minor": 5
}
