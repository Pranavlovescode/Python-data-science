{
 "cells": [
  {
   "cell_type": "code",
   "execution_count": 1,
   "metadata": {},
   "outputs": [],
   "source": [
    "# This is the case study 1 for the income.csv dataset\n",
    "import pandas as pd\n",
    "import numpy as np\n",
    "import seaborn as sns"
   ]
  },
  {
   "cell_type": "markdown",
   "metadata": {},
   "source": [
    "# Load the data"
   ]
  },
  {
   "cell_type": "code",
   "execution_count": 2,
   "metadata": {},
   "outputs": [
    {
     "name": "stdout",
     "output_type": "stream",
     "text": [
      "   age       JobType         EdType        maritalstatus       occupation  \\\n",
      "0   45       Private        HS-grad             Divorced     Adm-clerical   \n",
      "1   24   Federal-gov        HS-grad        Never-married     Armed-Forces   \n",
      "2   44       Private   Some-college   Married-civ-spouse   Prof-specialty   \n",
      "3   27       Private            9th        Never-married     Craft-repair   \n",
      "4   20       Private   Some-college        Never-married            Sales   \n",
      "\n",
      "      relationship    race   gender  capitalgain  capitalloss  hoursperweek  \\\n",
      "0    Not-in-family   White   Female            0            0            28   \n",
      "1        Own-child   White     Male            0            0            40   \n",
      "2          Husband   White     Male            0            0            40   \n",
      "3   Other-relative   White     Male            0            0            40   \n",
      "4    Not-in-family   White     Male            0            0            35   \n",
      "\n",
      "    nativecountry                        SalStat  \n",
      "0   United-States   less than or equal to 50,000  \n",
      "1   United-States   less than or equal to 50,000  \n",
      "2   United-States            greater than 50,000  \n",
      "3          Mexico   less than or equal to 50,000  \n",
      "4   United-States   less than or equal to 50,000  \n",
      "The information of the data is as follows\n",
      "<class 'pandas.core.frame.DataFrame'>\n",
      "RangeIndex: 31978 entries, 0 to 31977\n",
      "Data columns (total 13 columns):\n",
      " #   Column         Non-Null Count  Dtype \n",
      "---  ------         --------------  ----- \n",
      " 0   age            31978 non-null  int64 \n",
      " 1   JobType        31978 non-null  object\n",
      " 2   EdType         31978 non-null  object\n",
      " 3   maritalstatus  31978 non-null  object\n",
      " 4   occupation     31978 non-null  object\n",
      " 5   relationship   31978 non-null  object\n",
      " 6   race           31978 non-null  object\n",
      " 7   gender         31978 non-null  object\n",
      " 8   capitalgain    31978 non-null  int64 \n",
      " 9   capitalloss    31978 non-null  int64 \n",
      " 10  hoursperweek   31978 non-null  int64 \n",
      " 11  nativecountry  31978 non-null  object\n",
      " 12  SalStat        31978 non-null  object\n",
      "dtypes: int64(4), object(9)\n",
      "memory usage: 3.2+ MB\n",
      "None\n"
     ]
    }
   ],
   "source": [
    "\n",
    "data = pd.read_csv('income(1).csv')\n",
    "print(data.head())\n",
    "\n",
    "# Making the copies of the data\n",
    "data1 = data.copy()\n",
    "# Printing the information of the data\n",
    "print(\"The information of the data is as follows\")\n",
    "print(data1.info())"
   ]
  },
  {
   "cell_type": "markdown",
   "metadata": {},
   "source": [
    "# Summary statistics of the data"
   ]
  },
  {
   "cell_type": "code",
   "execution_count": 3,
   "metadata": {},
   "outputs": [
    {
     "name": "stdout",
     "output_type": "stream",
     "text": [
      "The summary for numerical data is as follows\n",
      "                age   capitalgain   capitalloss  hoursperweek\n",
      "count  31978.000000  31978.000000  31978.000000  31978.000000\n",
      "mean      38.579023   1064.360623     86.739352     40.417850\n",
      "std       13.662085   7298.596271    401.594301     12.345285\n",
      "min       17.000000      0.000000      0.000000      1.000000\n",
      "25%       28.000000      0.000000      0.000000     40.000000\n",
      "50%       37.000000      0.000000      0.000000     40.000000\n",
      "75%       48.000000      0.000000      0.000000     45.000000\n",
      "max       90.000000  99999.000000   4356.000000     99.000000\n",
      "The summary for categorical data is as follows\n",
      "         JobType    EdType        maritalstatus       occupation relationship  \\\n",
      "count      31978     31978                31978            31978        31978   \n",
      "unique         9        16                    7               15            6   \n",
      "top      Private   HS-grad   Married-civ-spouse   Prof-specialty      Husband   \n",
      "freq       22286     10368                14692             4038        12947   \n",
      "\n",
      "          race gender   nativecountry                        SalStat  \n",
      "count    31978  31978           31978                          31978  \n",
      "unique       5      2              41                              2  \n",
      "top      White   Male   United-States   less than or equal to 50,000  \n",
      "freq     27430  21370           29170                          24283  \n",
      "JobType\n",
      "Private             22286\n",
      "Self-emp-not-inc     2499\n",
      "Local-gov            2067\n",
      "?                    1809\n",
      "State-gov            1279\n",
      "Self-emp-inc         1074\n",
      "Federal-gov           943\n",
      "Without-pay            14\n",
      "Never-worked            7\n",
      "Name: count, dtype: int64\n",
      "[' ?' ' Federal-gov' ' Local-gov' ' Never-worked' ' Private'\n",
      " ' Self-emp-inc' ' Self-emp-not-inc' ' State-gov' ' Without-pay']\n"
     ]
    }
   ],
   "source": [
    "\n",
    "# summary for numerical data\n",
    "print(\"The summary for numerical data is as follows\")\n",
    "summary_num = data1.describe()\n",
    "print(summary_num)\n",
    "\n",
    "# summary for categorical data\n",
    "print(\"The summary for categorical data is as follows\")\n",
    "print(data1.describe(include='object'))\n",
    "\n",
    "\n",
    "print(data1['JobType'].value_counts())\n",
    "print(np.unique(data1['JobType']))"
   ]
  },
  {
   "cell_type": "markdown",
   "metadata": {},
   "source": [
    "# Check for missing values"
   ]
  },
  {
   "cell_type": "code",
   "execution_count": 4,
   "metadata": {},
   "outputs": [
    {
     "name": "stdout",
     "output_type": "stream",
     "text": [
      "The missing values are as follows\n",
      " age              0\n",
      "JobType          0\n",
      "EdType           0\n",
      "maritalstatus    0\n",
      "occupation       0\n",
      "relationship     0\n",
      "race             0\n",
      "gender           0\n",
      "capitalgain      0\n",
      "capitalloss      0\n",
      "hoursperweek     0\n",
      "nativecountry    0\n",
      "SalStat          0\n",
      "dtype: int64\n"
     ]
    }
   ],
   "source": [
    "\n",
    "print('The missing values are as follows\\n',data1.isnull().sum())"
   ]
  },
  {
   "cell_type": "markdown",
   "metadata": {},
   "source": [
    "# Reloading the data in a new dataframe"
   ]
  },
  {
   "cell_type": "code",
   "execution_count": 5,
   "metadata": {},
   "outputs": [
    {
     "name": "stdout",
     "output_type": "stream",
     "text": [
      "JobType\n",
      "Private             22286\n",
      "Self-emp-not-inc     2499\n",
      "Local-gov            2067\n",
      "?                    1809\n",
      "State-gov            1279\n",
      "Self-emp-inc         1074\n",
      "Federal-gov           943\n",
      "Without-pay            14\n",
      "Never-worked            7\n",
      "Name: count, dtype: int64\n",
      "0        False\n",
      "1        False\n",
      "2        False\n",
      "3        False\n",
      "4        False\n",
      "         ...  \n",
      "31973    False\n",
      "31974    False\n",
      "31975    False\n",
      "31976    False\n",
      "31977    False\n",
      "Length: 31978, dtype: bool\n",
      "Droped the missing values\n",
      "       age       JobType         EdType        maritalstatus  \\\n",
      "0       45       Private        HS-grad             Divorced   \n",
      "1       24   Federal-gov        HS-grad        Never-married   \n",
      "2       44       Private   Some-college   Married-civ-spouse   \n",
      "3       27       Private            9th        Never-married   \n",
      "4       20       Private   Some-college        Never-married   \n",
      "...    ...           ...            ...                  ...   \n",
      "31973   34     Local-gov        HS-grad        Never-married   \n",
      "31974   34     Local-gov   Some-college        Never-married   \n",
      "31975   23       Private   Some-college   Married-civ-spouse   \n",
      "31976   42     Local-gov   Some-college   Married-civ-spouse   \n",
      "31977   29       Private      Bachelors        Never-married   \n",
      "\n",
      "             occupation     relationship    race   gender  capitalgain  \\\n",
      "0          Adm-clerical    Not-in-family   White   Female            0   \n",
      "1          Armed-Forces        Own-child   White     Male            0   \n",
      "2        Prof-specialty          Husband   White     Male            0   \n",
      "3          Craft-repair   Other-relative   White     Male            0   \n",
      "4                 Sales    Not-in-family   White     Male            0   \n",
      "...                 ...              ...     ...      ...          ...   \n",
      "31973   Farming-fishing    Not-in-family   Black     Male          594   \n",
      "31974   Protective-serv    Not-in-family   White   Female            0   \n",
      "31975      Adm-clerical          Husband   White     Male            0   \n",
      "31976      Adm-clerical             Wife   White   Female            0   \n",
      "31977    Prof-specialty    Not-in-family   White     Male            0   \n",
      "\n",
      "       capitalloss  hoursperweek   nativecountry  \\\n",
      "0                0            28   United-States   \n",
      "1                0            40   United-States   \n",
      "2                0            40   United-States   \n",
      "3                0            40          Mexico   \n",
      "4                0            35   United-States   \n",
      "...            ...           ...             ...   \n",
      "31973            0            60   United-States   \n",
      "31974            0            40   United-States   \n",
      "31975            0            40   United-States   \n",
      "31976            0            40   United-States   \n",
      "31977            0            40   United-States   \n",
      "\n",
      "                             SalStat  \n",
      "0       less than or equal to 50,000  \n",
      "1       less than or equal to 50,000  \n",
      "2                greater than 50,000  \n",
      "3       less than or equal to 50,000  \n",
      "4       less than or equal to 50,000  \n",
      "...                              ...  \n",
      "31973   less than or equal to 50,000  \n",
      "31974   less than or equal to 50,000  \n",
      "31975   less than or equal to 50,000  \n",
      "31976   less than or equal to 50,000  \n",
      "31977   less than or equal to 50,000  \n",
      "\n",
      "[31978 rows x 13 columns]\n"
     ]
    }
   ],
   "source": [
    "data2 = pd.read_csv('income(1).csv',na_values=['?'])\n",
    "print(data2['JobType'].value_counts())\n",
    "print(data1.isnull().any(axis=1))\n",
    "# Dropping the missing values\n",
    "print(\"Droped the missing values\")\n",
    "data3=data1.dropna(axis=0)\n",
    "print(data3)"
   ]
  },
  {
   "cell_type": "markdown",
   "metadata": {},
   "source": [
    "# Finding the correlation between the numerical data"
   ]
  },
  {
   "cell_type": "code",
   "execution_count": 6,
   "metadata": {},
   "outputs": [
    {
     "name": "stdout",
     "output_type": "stream",
     "text": [
      "The correlation between the numerical data is as follows\n",
      "                   age  capitalgain  capitalloss  hoursperweek\n",
      "age           1.000000     0.077490     0.057282      0.068299\n",
      "capitalgain   0.077490     1.000000    -0.031499      0.079112\n",
      "capitalloss   0.057282    -0.031499     1.000000      0.053106\n",
      "hoursperweek  0.068299     0.079112     0.053106      1.000000\n"
     ]
    }
   ],
   "source": [
    "\n",
    "print(\"The correlation between the numerical data is as follows\")\n",
    "# Select only the numeric columns\n",
    "numeric_cols = data3.select_dtypes(include=[np.number])\n",
    "# Compute the correlation\n",
    "correlation = numeric_cols.corr()\n",
    "print(correlation)  "
   ]
  },
  {
   "cell_type": "markdown",
   "metadata": {},
   "source": [
    "# Plotting the graphs"
   ]
  },
  {
   "cell_type": "code",
   "execution_count": 3,
   "metadata": {},
   "outputs": [
    {
     "data": {
      "image/png": "[encoded data removed]",
      "text/plain": [
       "<Figure size 640x480 with 1 Axes>"
      ]
     },
     "metadata": {},
     "output_type": "display_data"
    }
   ],
   "source": [
    "# Plotting the histogram\n",
    "plot=sns.countplot(data1['SalStat'])"
   ]
  }
 ],
 "metadata": {
  "kernelspec": {
   "display_name": "Python 3 (ipykernel)",
   "language": "python",
   "name": "python3"
  },
  "language_info": {
   "codemirror_mode": {
    "name": "ipython",
    "version": 3
   },
   "file_extension": ".py",
   "mimetype": "text/x-python",
   "name": "python",
   "nbconvert_exporter": "python",
   "pygments_lexer": "ipython3",
   "version": "3.12.2"
  }
 },
 "nbformat": 4,
 "nbformat_minor": 4
}
