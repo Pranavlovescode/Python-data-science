{
 "cells": [
  {
   "cell_type": "markdown",
   "id": "bd3f05e2",
   "metadata": {},
   "source": [
    "## Install Pandas\n",
    "pip install pandas\n"
   ]
  },
  {
   "cell_type": "code",
   "execution_count": 7,
   "id": "9084a504-ceef-4009-a2e2-af4f02a8ea89",
   "metadata": {},
   "outputs": [
    {
     "name": "stdout",
     "output_type": "stream",
     "text": [
      "     Pregnancies     Glucose  BloodPressure  SkinThickness     Insulin  \\\n",
      "0              2  115.863387      56.410731      24.336736   94.385783   \n",
      "1              2   92.490122      70.615520      23.443591  138.652426   \n",
      "2              1   88.141469      63.262618      23.404364  149.358082   \n",
      "3              2  108.453101      67.793632      20.751580  108.751638   \n",
      "4              1  127.849443      94.725685      22.603078   25.269987   \n",
      "..           ...         ...            ...            ...         ...   \n",
      "995            1  103.496355      41.059401      24.930299   43.675978   \n",
      "996            1   60.714150      64.082842      24.689064  111.562745   \n",
      "997            0   97.597727      64.122312      22.140339  108.138552   \n",
      "998            0   66.775137      55.908797      24.885274  219.521484   \n",
      "999            0   87.647268      69.111593      25.621266  134.335745   \n",
      "\n",
      "           BMI  DiabetesPedigreeFunction        Age  Diagnosis  \n",
      "0    26.455940                  0.272682  20.100494          0  \n",
      "1    23.910167                  0.665160  44.912281          0  \n",
      "2    21.948250                  0.676022  48.247873          1  \n",
      "3    24.209304                  0.289636  42.749868          0  \n",
      "4    32.997477                  0.601315  32.797789          0  \n",
      "..         ...                       ...        ...        ...  \n",
      "995  25.846062                  0.455884  19.905419          0  \n",
      "996  19.464280                  0.250560  44.421874          1  \n",
      "997  22.733052                  0.761463  58.949800          1  \n",
      "998  31.819187                  0.382877  46.928923          0  \n",
      "999  31.098746                  0.605828  41.785889          1  \n",
      "\n",
      "[1000 rows x 9 columns]\n"
     ]
    }
   ],
   "source": [
    "import pandas as pd\n",
    "df = pd.read_csv('Diabetes_prediction.csv')\n",
    "print(df)"
   ]
  },
  {
   "cell_type": "markdown",
   "id": "ee477ecc",
   "metadata": {},
   "source": [
    "## Reading data from .csv file and displaying it in form of table.\n"
   ]
  },
  {
   "cell_type": "code",
   "execution_count": 77,
   "id": "45623f5e-154e-43dd-bf56-b636c12c270e",
   "metadata": {},
   "outputs": [
    {
     "name": "stdout",
     "output_type": "stream",
     "text": [
      "Open         float64\n",
      "High         float64\n",
      "Low          float64\n",
      "Close        float64\n",
      "Adj Close    float64\n",
      "Volume         int64\n",
      "Currency      object\n",
      "dtype: object\n",
      "                  Open        High         Low       Close   Adj Close  \\\n",
      "Date                                                                     \n",
      "2018-11-14  206.533997  207.044998  174.084000  181.397003  181.397003   \n",
      "2018-11-15  181.899002  184.251007  170.188995  180.806000  180.806000   \n",
      "2018-11-16  180.865005  181.350006  173.126007  175.177002  175.177002   \n",
      "2018-11-17  175.360001  175.850998  172.869003  174.001007  174.001007   \n",
      "2018-11-18  174.175003  179.151993  174.175003  177.067001  177.067001   \n",
      "2018-11-19  177.179001  177.179001  147.850998  149.175003  149.175003   \n",
      "2018-11-20  148.811005  151.253006  126.360001  130.339005  130.339005   \n",
      "2018-11-21  131.141998  138.889999  125.758003  136.701004  136.701004   \n",
      "2018-11-22  136.811005  137.740005  126.706001  126.706001  126.706001   \n",
      "2018-11-23  126.418999  127.028000  119.558998  123.295998  123.295998   \n",
      "\n",
      "                Volume  Currency  \n",
      "Date                              \n",
      "2018-11-14  2595330000  Etherium  \n",
      "2018-11-15  2638410000  Etherium  \n",
      "2018-11-16  2015330000  Etherium  \n",
      "2018-11-17  1832800000  Etherium  \n",
      "2018-11-18  1810920000  Etherium  \n",
      "2018-11-19  2745160000  Etherium  \n",
      "2018-11-20  3134410000  Etherium  \n",
      "2018-11-21  2685930000  Etherium  \n",
      "2018-11-22  1792150000  Etherium  \n",
      "2018-11-23  1998010000  Etherium  \n",
      "<class 'pandas.core.frame.DataFrame'>\n",
      "DatetimeIndex: 10 entries, 2018-11-14 to 2018-11-23\n",
      "Data columns (total 7 columns):\n",
      " #   Column     Non-Null Count  Dtype  \n",
      "---  ------     --------------  -----  \n",
      " 0   Open       10 non-null     float64\n",
      " 1   High       10 non-null     float64\n",
      " 2   Low        10 non-null     float64\n",
      " 3   Close      10 non-null     float64\n",
      " 4   Adj Close  10 non-null     float64\n",
      " 5   Volume     10 non-null     int64  \n",
      " 6   Currency   10 non-null     object \n",
      "dtypes: float64(5), int64(1), object(1)\n",
      "memory usage: 640.0+ bytes\n",
      "None\n"
     ]
    }
   ],
   "source": [
    "import pandas as pd\n",
    "bitcoin_data = pd.read_csv('ETH-BTC-USD.csv', parse_dates=True, index_col=0, nrows=10)\n",
    "print(bitcoin_data.dtypes)\n",
    "print(bitcoin_data)\n",
    "print(bitcoin_data.info())\n"
   ]
  },
  {
   "cell_type": "markdown",
   "id": "6f1e239b",
   "metadata": {},
   "source": [
    "# Converting the datatype of the variables in dataframe"
   ]
  },
  {
   "cell_type": "code",
   "execution_count": 9,
   "id": "7f20be32",
   "metadata": {},
   "outputs": [
    {
     "name": "stdout",
     "output_type": "stream",
     "text": [
      "Open         float64\n",
      "High         float64\n",
      "Low          float64\n",
      "Close        float64\n",
      "Adj Close    float64\n",
      "Volume       float64\n",
      "Currency      object\n",
      "dtype: object\n",
      "                  Open        High         Low       Close   Adj Close  \\\n",
      "Date                                                                     \n",
      "2018-11-14  206.533997  207.044998  174.084000  181.397003  181.397003   \n",
      "2018-11-15  181.899002  184.251007  170.188995  180.806000  180.806000   \n",
      "2018-11-16  180.865005  181.350006  173.126007  175.177002  175.177002   \n",
      "2018-11-17  175.360001  175.850998  172.869003  174.001007  174.001007   \n",
      "2018-11-18  174.175003  179.151993  174.175003  177.067001  177.067001   \n",
      "2018-11-19  177.179001  177.179001  147.850998  149.175003  149.175003   \n",
      "2018-11-20  148.811005  151.253006  126.360001  130.339005  130.339005   \n",
      "2018-11-21  131.141998  138.889999  125.758003  136.701004  136.701004   \n",
      "2018-11-22  136.811005  137.740005  126.706001  126.706001  126.706001   \n",
      "2018-11-23  126.418999  127.028000  119.558998  123.295998  123.295998   \n",
      "\n",
      "                  Volume  Currency  \n",
      "Date                                \n",
      "2018-11-14  2.595330e+09  Etherium  \n",
      "2018-11-15  2.638410e+09  Etherium  \n",
      "2018-11-16  2.015330e+09  Etherium  \n",
      "2018-11-17  1.832800e+09  Etherium  \n",
      "2018-11-18  1.810920e+09  Etherium  \n",
      "2018-11-19  2.745160e+09  Etherium  \n",
      "2018-11-20  3.134410e+09  Etherium  \n",
      "2018-11-21  2.685930e+09  Etherium  \n",
      "2018-11-22  1.792150e+09  Etherium  \n",
      "2018-11-23  1.998010e+09  Etherium  \n"
     ]
    }
   ],
   "source": [
    "bitcoin_data['Volume']=bitcoin_data['Volume'].astype('float')\n",
    "print(bitcoin_data.dtypes)\n",
    "print(bitcoin_data)"
   ]
  },
  {
   "cell_type": "markdown",
   "id": "9fe41d59",
   "metadata": {},
   "source": [
    "# Category VS Object datatype"
   ]
  },
  {
   "cell_type": "code",
   "execution_count": 18,
   "id": "527653ae",
   "metadata": {},
   "outputs": [
    {
     "name": "stdout",
     "output_type": "stream",
     "text": [
      "80\n",
      "Converted to category:\n",
      "18\n",
      "<class 'pandas.core.frame.DataFrame'>\n",
      "DatetimeIndex: 10 entries, 2018-11-14 to 2018-11-23\n",
      "Data columns (total 7 columns):\n",
      " #   Column     Non-Null Count  Dtype   \n",
      "---  ------     --------------  -----   \n",
      " 0   Open       10 non-null     float64 \n",
      " 1   High       10 non-null     float64 \n",
      " 2   Low        10 non-null     float64 \n",
      " 3   Close      10 non-null     float64 \n",
      " 4   Adj Close  10 non-null     float64 \n",
      " 5   Volume     10 non-null     float64 \n",
      " 6   Currency   10 non-null     category\n",
      "dtypes: category(1), float64(6)\n",
      "memory usage: 686.0 bytes\n",
      "None\n",
      "converted back to object\n",
      "<class 'pandas.core.frame.DataFrame'>\n",
      "DatetimeIndex: 10 entries, 2018-11-14 to 2018-11-23\n",
      "Data columns (total 7 columns):\n",
      " #   Column     Non-Null Count  Dtype  \n",
      "---  ------     --------------  -----  \n",
      " 0   Open       10 non-null     float64\n",
      " 1   High       10 non-null     float64\n",
      " 2   Low        10 non-null     float64\n",
      " 3   Close      10 non-null     float64\n",
      " 4   Adj Close  10 non-null     float64\n",
      " 5   Volume     10 non-null     float64\n",
      " 6   Currency   10 non-null     object \n",
      "dtypes: float64(6), object(1)\n",
      "memory usage: 640.0+ bytes\n",
      "None\n"
     ]
    }
   ],
   "source": [
    "print(bitcoin_data['Currency'].nbytes)\n",
    "bitcoin_data['Currency'] = bitcoin_data['Currency'].astype('category')\n",
    "print(\"Converted to category:\")\n",
    "print(bitcoin_data['Currency'].nbytes)\n",
    "print(bitcoin_data.info()) #gives the detail information of the dataframe\n",
    "print('converted back to object')\n",
    "bitcoin_data['Currency'] = bitcoin_data['Currency'].astype('object')\n",
    "print(bitcoin_data.info())"
   ]
  },
  {
   "cell_type": "markdown",
   "id": "910c1efa",
   "metadata": {},
   "source": [
    "# Cleaning of the Columns\n"
   ]
  },
  {
   "cell_type": "code",
   "execution_count": 50,
   "id": "bb482949",
   "metadata": {},
   "outputs": [
    {
     "name": "stdout",
     "output_type": "stream",
     "text": [
      "[None None None None None None None None None None]\n",
      "[None None None None None None None None None None]\n"
     ]
    },
    {
     "name": "stderr",
     "output_type": "stream",
     "text": [
      "C:\\Users\\HP\\AppData\\Local\\Temp\\ipykernel_17976\\867986560.py:7: FutureWarning: A value is trying to be set on a copy of a DataFrame or Series through chained assignment using an inplace method.\n",
      "The behavior will change in pandas 3.0. This inplace method will never work because the intermediate object on which we are setting values always behaves as a copy.\n",
      "\n",
      "For example, when doing 'df[col].method(value, inplace=True)', try using 'df.method({col: value}, inplace=True)' or df[col] = df[col].method(value) instead, to perform the operation inplace on the original object.\n",
      "\n",
      "\n",
      "  bitcoin_data['Currency'] = bitcoin_data['Currency'].replace('None', 'ETH',inplace=True)\n"
     ]
    }
   ],
   "source": [
    "import numpy as np\n",
    "\n",
    "# print(np.unique(bitcoin_data['Currency']))\n",
    "print(np.array(bitcoin_data['Currency']))\n",
    "\n",
    "# cleaning the data by using the replace function\n",
    "bitcoin_data['Currency'] = bitcoin_data['Currency'].replace('None', 'ETH',inplace=True)\n",
    "\n",
    "print(np.array(bitcoin_data['Currency']))"
   ]
  },
  {
   "cell_type": "markdown",
   "id": "acf4a43b",
   "metadata": {},
   "source": [
    "# Checking the missing values."
   ]
  },
  {
   "cell_type": "code",
   "execution_count": 52,
   "id": "cc28f2bf",
   "metadata": {},
   "outputs": [
    {
     "name": "stdout",
     "output_type": "stream",
     "text": [
      "Open          0\n",
      "High          0\n",
      "Low           0\n",
      "Close         0\n",
      "Adj Close     0\n",
      "Volume        0\n",
      "Currency     10\n",
      "dtype: int64\n"
     ]
    }
   ],
   "source": [
    "# Checking for missing values\n",
    "print(bitcoin_data.isnull().sum())"
   ]
  },
  {
   "cell_type": "markdown",
   "id": "dc95bda4",
   "metadata": {},
   "source": [
    "# Creating a new column & Deleting the column in the given dataframe"
   ]
  },
  {
   "cell_type": "code",
   "execution_count": 75,
   "id": "262e6156",
   "metadata": {},
   "outputs": [
    {
     "name": "stdout",
     "output_type": "stream",
     "text": [
      "                  Open        High         Low       Close   Adj Close  \\\n",
      "Date                                                                     \n",
      "2018-11-14  206.533997  207.044998  174.084000  181.397003  181.397003   \n",
      "2018-11-15  181.899002  184.251007  170.188995  180.806000  180.806000   \n",
      "2018-11-16  180.865005  181.350006  173.126007  175.177002  175.177002   \n",
      "2018-11-17  175.360001  175.850998  172.869003  174.001007  174.001007   \n",
      "2018-11-18  174.175003  179.151993  174.175003  177.067001  177.067001   \n",
      "2018-11-19  177.179001  177.179001  147.850998  149.175003  149.175003   \n",
      "2018-11-20  148.811005  151.253006  126.360001  130.339005  130.339005   \n",
      "2018-11-21  131.141998  138.889999  125.758003  136.701004  136.701004   \n",
      "2018-11-22  136.811005  137.740005  126.706001  126.706001  126.706001   \n",
      "2018-11-23  126.418999  127.028000  119.558998  123.295998  123.295998   \n",
      "\n",
      "                  Volume  \n",
      "Date                      \n",
      "2018-11-14  2.595330e+09  \n",
      "2018-11-15  2.638410e+09  \n",
      "2018-11-16  2.015330e+09  \n",
      "2018-11-17  1.832800e+09  \n",
      "2018-11-18  1.810920e+09  \n",
      "2018-11-19  2.745160e+09  \n",
      "2018-11-20  3.134410e+09  \n",
      "2018-11-21  2.685930e+09  \n",
      "2018-11-22  1.792150e+09  \n",
      "2018-11-23  1.998010e+09  \n"
     ]
    }
   ],
   "source": [
    "# bitcoin_data.insert(3, 'type', 'Down')\n",
    "# print(bitcoin_data)\n",
    "# Deleting the column\n",
    "bitcoin_data.drop('type',axis=1,inplace=True) # axis=1 for column and axis=0 for row and inplace=True for permanent deletion\n",
    "print(bitcoin_data)"
   ]
  },
  {
   "cell_type": "markdown",
   "id": "8c6203f3",
   "metadata": {},
   "source": [
    "# Creating the copy of the data"
   ]
  },
  {
   "cell_type": "code",
   "execution_count": 78,
   "id": "979624e7",
   "metadata": {},
   "outputs": [
    {
     "name": "stdout",
     "output_type": "stream",
     "text": [
      "                  Open        High         Low       Close   Adj Close  \\\n",
      "Date                                                                     \n",
      "2018-11-14  206.533997  207.044998  174.084000  181.397003  181.397003   \n",
      "2018-11-15  181.899002  184.251007  170.188995  180.806000  180.806000   \n",
      "2018-11-16  180.865005  181.350006  173.126007  175.177002  175.177002   \n",
      "2018-11-17  175.360001  175.850998  172.869003  174.001007  174.001007   \n",
      "2018-11-18  174.175003  179.151993  174.175003  177.067001  177.067001   \n",
      "2018-11-19  177.179001  177.179001  147.850998  149.175003  149.175003   \n",
      "2018-11-20  148.811005  151.253006  126.360001  130.339005  130.339005   \n",
      "2018-11-21  131.141998  138.889999  125.758003  136.701004  136.701004   \n",
      "2018-11-22  136.811005  137.740005  126.706001  126.706001  126.706001   \n",
      "2018-11-23  126.418999  127.028000  119.558998  123.295998  123.295998   \n",
      "\n",
      "                Volume  Currency  \n",
      "Date                              \n",
      "2018-11-14  2595330000  Etherium  \n",
      "2018-11-15  2638410000  Etherium  \n",
      "2018-11-16  2015330000  Etherium  \n",
      "2018-11-17  1832800000  Etherium  \n",
      "2018-11-18  1810920000  Etherium  \n",
      "2018-11-19  2745160000  Etherium  \n",
      "2018-11-20  3134410000  Etherium  \n",
      "2018-11-21  2685930000  Etherium  \n",
      "2018-11-22  1792150000  Etherium  \n",
      "2018-11-23  1998010000  Etherium  \n"
     ]
    }
   ],
   "source": [
    "btc = bitcoin_data.copy()\n",
    "print(btc)"
   ]
  },
  {
   "cell_type": "markdown",
   "id": "6f26b3bd",
   "metadata": {},
   "source": [
    "Working with Diabetes dataset"
   ]
  },
  {
   "cell_type": "code",
   "execution_count": 2,
   "id": "5aca522e",
   "metadata": {},
   "outputs": [
    {
     "name": "stdout",
     "output_type": "stream",
     "text": [
      "     Pregnancies     Glucose  BloodPressure  SkinThickness     Insulin  \\\n",
      "0              2  115.863387      56.410731      24.336736   94.385783   \n",
      "1              2   92.490122      70.615520      23.443591  138.652426   \n",
      "2              1   88.141469      63.262618      23.404364  149.358082   \n",
      "3              2  108.453101      67.793632      20.751580  108.751638   \n",
      "4              1  127.849443      94.725685      22.603078   25.269987   \n",
      "..           ...         ...            ...            ...         ...   \n",
      "995            1  103.496355      41.059401      24.930299   43.675978   \n",
      "996            1   60.714150      64.082842      24.689064  111.562745   \n",
      "997            0   97.597727      64.122312      22.140339  108.138552   \n",
      "998            0   66.775137      55.908797      24.885274  219.521484   \n",
      "999            0   87.647268      69.111593      25.621266  134.335745   \n",
      "\n",
      "           BMI  DiabetesPedigreeFunction        Age  Diagnosis  \n",
      "0    26.455940                  0.272682  20.100494          0  \n",
      "1    23.910167                  0.665160  44.912281          0  \n",
      "2    21.948250                  0.676022  48.247873          1  \n",
      "3    24.209304                  0.289636  42.749868          0  \n",
      "4    32.997477                  0.601315  32.797789          0  \n",
      "..         ...                       ...        ...        ...  \n",
      "995  25.846062                  0.455884  19.905419          0  \n",
      "996  19.464280                  0.250560  44.421874          1  \n",
      "997  22.733052                  0.761463  58.949800          1  \n",
      "998  31.819187                  0.382877  46.928923          0  \n",
      "999  31.098746                  0.605828  41.785889          1  \n",
      "\n",
      "[1000 rows x 9 columns]\n",
      "<class 'pandas.core.frame.DataFrame'>\n",
      "RangeIndex: 1000 entries, 0 to 999\n",
      "Data columns (total 9 columns):\n",
      " #   Column                    Non-Null Count  Dtype  \n",
      "---  ------                    --------------  -----  \n",
      " 0   Pregnancies               1000 non-null   int64  \n",
      " 1   Glucose                   1000 non-null   float64\n",
      " 2   BloodPressure             1000 non-null   float64\n",
      " 3   SkinThickness             1000 non-null   float64\n",
      " 4   Insulin                   1000 non-null   float64\n",
      " 5   BMI                       1000 non-null   float64\n",
      " 6   DiabetesPedigreeFunction  1000 non-null   float64\n",
      " 7   Age                       1000 non-null   float64\n",
      " 8   Diagnosis                 1000 non-null   int64  \n",
      "dtypes: float64(7), int64(2)\n",
      "memory usage: 70.4 KB\n",
      "None\n"
     ]
    }
   ],
   "source": [
    "import pandas as pd\n",
    "df=pd.read_csv('Diabetes_prediction.csv')\n",
    "print(df)   \n",
    "print(df.info())"
   ]
  },
  {
   "cell_type": "markdown",
   "id": "a5ac528a",
   "metadata": {},
   "source": [
    "Finding the frequency of 2 columns from the Diabetes dataset"
   ]
  },
  {
   "cell_type": "code",
   "execution_count": 99,
   "id": "2faac72c",
   "metadata": {},
   "outputs": [
    {
     "data": {
      "text/html": [
       "<div>\n",
       "<style scoped>\n",
       "    .dataframe tbody tr th:only-of-type {\n",
       "        vertical-align: middle;\n",
       "    }\n",
       "\n",
       "    .dataframe tbody tr th {\n",
       "        vertical-align: top;\n",
       "    }\n",
       "\n",
       "    .dataframe thead th {\n",
       "        text-align: right;\n",
       "    }\n",
       "</style>\n",
       "<table border=\"1\" class=\"dataframe\">\n",
       "  <thead>\n",
       "    <tr style=\"text-align: right;\">\n",
       "      <th>Pregnancies</th>\n",
       "      <th>0</th>\n",
       "      <th>1</th>\n",
       "      <th>2</th>\n",
       "      <th>3</th>\n",
       "      <th>4</th>\n",
       "      <th>5</th>\n",
       "      <th>6</th>\n",
       "      <th>8</th>\n",
       "    </tr>\n",
       "    <tr>\n",
       "      <th>Age</th>\n",
       "      <th></th>\n",
       "      <th></th>\n",
       "      <th></th>\n",
       "      <th></th>\n",
       "      <th></th>\n",
       "      <th></th>\n",
       "      <th></th>\n",
       "      <th></th>\n",
       "    </tr>\n",
       "  </thead>\n",
       "  <tbody>\n",
       "    <tr>\n",
       "      <th>-0.979804</th>\n",
       "      <td>1</td>\n",
       "      <td>0</td>\n",
       "      <td>0</td>\n",
       "      <td>0</td>\n",
       "      <td>0</td>\n",
       "      <td>0</td>\n",
       "      <td>0</td>\n",
       "      <td>0</td>\n",
       "    </tr>\n",
       "    <tr>\n",
       "      <th>-0.633140</th>\n",
       "      <td>0</td>\n",
       "      <td>1</td>\n",
       "      <td>0</td>\n",
       "      <td>0</td>\n",
       "      <td>0</td>\n",
       "      <td>0</td>\n",
       "      <td>0</td>\n",
       "      <td>0</td>\n",
       "    </tr>\n",
       "    <tr>\n",
       "      <th>2.082077</th>\n",
       "      <td>0</td>\n",
       "      <td>0</td>\n",
       "      <td>1</td>\n",
       "      <td>0</td>\n",
       "      <td>0</td>\n",
       "      <td>0</td>\n",
       "      <td>0</td>\n",
       "      <td>0</td>\n",
       "    </tr>\n",
       "    <tr>\n",
       "      <th>3.567449</th>\n",
       "      <td>0</td>\n",
       "      <td>0</td>\n",
       "      <td>1</td>\n",
       "      <td>0</td>\n",
       "      <td>0</td>\n",
       "      <td>0</td>\n",
       "      <td>0</td>\n",
       "      <td>0</td>\n",
       "    </tr>\n",
       "    <tr>\n",
       "      <th>3.868781</th>\n",
       "      <td>0</td>\n",
       "      <td>1</td>\n",
       "      <td>0</td>\n",
       "      <td>0</td>\n",
       "      <td>0</td>\n",
       "      <td>0</td>\n",
       "      <td>0</td>\n",
       "      <td>0</td>\n",
       "    </tr>\n",
       "    <tr>\n",
       "      <th>...</th>\n",
       "      <td>...</td>\n",
       "      <td>...</td>\n",
       "      <td>...</td>\n",
       "      <td>...</td>\n",
       "      <td>...</td>\n",
       "      <td>...</td>\n",
       "      <td>...</td>\n",
       "      <td>...</td>\n",
       "    </tr>\n",
       "    <tr>\n",
       "      <th>80.152148</th>\n",
       "      <td>0</td>\n",
       "      <td>0</td>\n",
       "      <td>1</td>\n",
       "      <td>0</td>\n",
       "      <td>0</td>\n",
       "      <td>0</td>\n",
       "      <td>0</td>\n",
       "      <td>0</td>\n",
       "    </tr>\n",
       "    <tr>\n",
       "      <th>80.527124</th>\n",
       "      <td>0</td>\n",
       "      <td>1</td>\n",
       "      <td>0</td>\n",
       "      <td>0</td>\n",
       "      <td>0</td>\n",
       "      <td>0</td>\n",
       "      <td>0</td>\n",
       "      <td>0</td>\n",
       "    </tr>\n",
       "    <tr>\n",
       "      <th>83.483222</th>\n",
       "      <td>0</td>\n",
       "      <td>0</td>\n",
       "      <td>0</td>\n",
       "      <td>1</td>\n",
       "      <td>0</td>\n",
       "      <td>0</td>\n",
       "      <td>0</td>\n",
       "      <td>0</td>\n",
       "    </tr>\n",
       "    <tr>\n",
       "      <th>87.095072</th>\n",
       "      <td>0</td>\n",
       "      <td>0</td>\n",
       "      <td>1</td>\n",
       "      <td>0</td>\n",
       "      <td>0</td>\n",
       "      <td>0</td>\n",
       "      <td>0</td>\n",
       "      <td>0</td>\n",
       "    </tr>\n",
       "    <tr>\n",
       "      <th>90.573782</th>\n",
       "      <td>0</td>\n",
       "      <td>1</td>\n",
       "      <td>0</td>\n",
       "      <td>0</td>\n",
       "      <td>0</td>\n",
       "      <td>0</td>\n",
       "      <td>0</td>\n",
       "      <td>0</td>\n",
       "    </tr>\n",
       "  </tbody>\n",
       "</table>\n",
       "<p>1000 rows × 8 columns</p>\n",
       "</div>"
      ],
      "text/plain": [
       "Pregnancies  0  1  2  3  4  5  6  8\n",
       "Age                                \n",
       "-0.979804    1  0  0  0  0  0  0  0\n",
       "-0.633140    0  1  0  0  0  0  0  0\n",
       " 2.082077    0  0  1  0  0  0  0  0\n",
       " 3.567449    0  0  1  0  0  0  0  0\n",
       " 3.868781    0  1  0  0  0  0  0  0\n",
       "...         .. .. .. .. .. .. .. ..\n",
       " 80.152148   0  0  1  0  0  0  0  0\n",
       " 80.527124   0  1  0  0  0  0  0  0\n",
       " 83.483222   0  0  0  1  0  0  0  0\n",
       " 87.095072   0  0  1  0  0  0  0  0\n",
       " 90.573782   0  1  0  0  0  0  0  0\n",
       "\n",
       "[1000 rows x 8 columns]"
      ]
     },
     "execution_count": 99,
     "metadata": {},
     "output_type": "execute_result"
    }
   ],
   "source": [
    "pd.crosstab(df['Age'] ,df['Pregnancies'],dropna=True)"
   ]
  },
  {
   "cell_type": "markdown",
   "id": "cbbf6406",
   "metadata": {},
   "source": [
    "# Finding Correlation"
   ]
  },
  {
   "cell_type": "code",
   "execution_count": 12,
   "id": "f9c6bf10",
   "metadata": {},
   "outputs": [
    {
     "name": "stdout",
     "output_type": "stream",
     "text": [
      "     Pregnancies  Diagnosis\n",
      "0              2          0\n",
      "1              2          0\n",
      "2              1          1\n",
      "3              2          0\n",
      "4              1          0\n",
      "..           ...        ...\n",
      "995            1          0\n",
      "996            1          1\n",
      "997            0          1\n",
      "998            0          0\n",
      "999            0          1\n",
      "\n",
      "[1000 rows x 2 columns]\n",
      "                          Pregnancies   Glucose  BloodPressure  SkinThickness  \\\n",
      "Pregnancies                  1.000000  0.008758       0.052029      -0.042633   \n",
      "Glucose                      0.008758  1.000000       0.014540       0.006488   \n",
      "BloodPressure                0.052029  0.014540       1.000000      -0.048373   \n",
      "SkinThickness               -0.042633  0.006488      -0.048373       1.000000   \n",
      "Insulin                     -0.026681 -0.018631       0.039232       0.037028   \n",
      "BMI                         -0.016910  0.009946       0.004760       0.069818   \n",
      "DiabetesPedigreeFunction    -0.003154  0.007424       0.002556      -0.072608   \n",
      "Age                          0.070119 -0.017286       0.050493      -0.050624   \n",
      "Diagnosis                    0.004253  0.000579       0.017192      -0.007825   \n",
      "\n",
      "                           Insulin       BMI  DiabetesPedigreeFunction  \\\n",
      "Pregnancies              -0.026681 -0.016910                 -0.003154   \n",
      "Glucose                  -0.018631  0.009946                  0.007424   \n",
      "BloodPressure             0.039232  0.004760                  0.002556   \n",
      "SkinThickness             0.037028  0.069818                 -0.072608   \n",
      "Insulin                   1.000000  0.051671                 -0.022458   \n",
      "BMI                       0.051671  1.000000                 -0.018537   \n",
      "DiabetesPedigreeFunction -0.022458 -0.018537                  1.000000   \n",
      "Age                       0.043956 -0.054440                  0.026695   \n",
      "Diagnosis                 0.031812 -0.025257                  0.060603   \n",
      "\n",
      "                               Age  Diagnosis  \n",
      "Pregnancies               0.070119   0.004253  \n",
      "Glucose                  -0.017286   0.000579  \n",
      "BloodPressure             0.050493   0.017192  \n",
      "SkinThickness            -0.050624  -0.007825  \n",
      "Insulin                   0.043956   0.031812  \n",
      "BMI                      -0.054440  -0.025257  \n",
      "DiabetesPedigreeFunction  0.026695   0.060603  \n",
      "Age                       1.000000  -0.037210  \n",
      "Diagnosis                -0.037210   1.000000  \n"
     ]
    }
   ],
   "source": [
    "# print(df.shape)\n",
    "df1 = df.select_dtypes(exclude=['float64'])\n",
    "print(df1)\n",
    "# Finding the correlation\n",
    "matrix = df.corr( method='spearman')\n",
    "print(matrix)"
   ]
  }
 ],
 "metadata": {
  "kernelspec": {
   "display_name": "Python 3 (ipykernel)",
   "language": "python",
   "name": "python3"
  },
  "language_info": {
   "codemirror_mode": {
    "name": "ipython",
    "version": 3
   },
   "file_extension": ".py",
   "mimetype": "text/x-python",
   "name": "python",
   "nbconvert_exporter": "python",
   "pygments_lexer": "ipython3",
   "version": "3.12.2"
  },
  "widgets": {
   "application/vnd.jupyter.widget-state+json": {
    "state": {},
    "version_major": 2,
    "version_minor": 0
   }
  }
 },
 "nbformat": 4,
 "nbformat_minor": 5
}
