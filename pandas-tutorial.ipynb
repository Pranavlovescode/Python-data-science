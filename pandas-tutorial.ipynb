{
 "cells": [
  {
   "cell_type": "code",
   "execution_count": 4,
   "id": "f2df5cbd-da9d-40de-bc35-02375434caa4",
   "metadata": {},
   "outputs": [
    {
     "name": "stdout",
     "output_type": "stream",
     "text": [
      "Requirement already satisfied: pandas in c:\\python312\\lib\\site-packages (2.2.0)\n",
      "Requirement already satisfied: numpy<2,>=1.26.0 in c:\\python312\\lib\\site-packages (from pandas) (1.26.4)\n",
      "Requirement already satisfied: python-dateutil>=2.8.2 in c:\\users\\prana\\appdata\\roaming\\python\\python312\\site-packages (from pandas) (2.8.2)\n",
      "Requirement already satisfied: pytz>=2020.1 in c:\\python312\\lib\\site-packages (from pandas) (2024.1)\n",
      "Requirement already satisfied: tzdata>=2022.7 in c:\\python312\\lib\\site-packages (from pandas) (2023.4)\n",
      "Requirement already satisfied: six>=1.5 in c:\\users\\prana\\appdata\\roaming\\python\\python312\\site-packages (from python-dateutil>=2.8.2->pandas) (1.16.0)\n",
      "Note: you may need to restart the kernel to use updated packages.\n"
     ]
    },
    {
     "name": "stderr",
     "output_type": "stream",
     "text": [
      "\n",
      "[notice] A new release of pip is available: 23.3.2 -> 24.0\n",
      "[notice] To update, run: python.exe -m pip install --upgrade pip\n"
     ]
    }
   ],
   "source": [
    "pip install pandas"
   ]
  },
  {
   "cell_type": "code",
   "execution_count": null,
   "id": "9084a504-ceef-4009-a2e2-af4f02a8ea89",
   "metadata": {},
   "outputs": [],
   "source": [
    "import pandas as pd\n",
    "df = pd.read_csv('Diabetes_prediction.csv')\n",
    "print(df)"
   ]
  },
  {
   "cell_type": "code",
   "execution_count": 9,
   "id": "45623f5e-154e-43dd-bf56-b636c12c270e",
   "metadata": {},
   "outputs": [
    {
     "name": "stdout",
     "output_type": "stream",
     "text": [
      "                  Open        High         Low       Close   Adj Close  \\\n",
      "Date                                                                     \n",
      "2018-11-14  206.533997  207.044998  174.084000  181.397003  181.397003   \n",
      "2018-11-15  181.899002  184.251007  170.188995  180.806000  180.806000   \n",
      "2018-11-16  180.865005  181.350006  173.126007  175.177002  175.177002   \n",
      "2018-11-17  175.360001  175.850998  172.869003  174.001007  174.001007   \n",
      "2018-11-18  174.175003  179.151993  174.175003  177.067001  177.067001   \n",
      "2018-11-19  177.179001  177.179001  147.850998  149.175003  149.175003   \n",
      "2018-11-20  148.811005  151.253006  126.360001  130.339005  130.339005   \n",
      "2018-11-21  131.141998  138.889999  125.758003  136.701004  136.701004   \n",
      "2018-11-22  136.811005  137.740005  126.706001  126.706001  126.706001   \n",
      "2018-11-23  126.418999  127.028000  119.558998  123.295998  123.295998   \n",
      "\n",
      "                Volume  Currency  \n",
      "Date                              \n",
      "2018-11-14  2595330000  Etherium  \n",
      "2018-11-15  2638410000  Etherium  \n",
      "2018-11-16  2015330000  Etherium  \n",
      "2018-11-17  1832800000  Etherium  \n",
      "2018-11-18  1810920000  Etherium  \n",
      "2018-11-19  2745160000  Etherium  \n",
      "2018-11-20  3134410000  Etherium  \n",
      "2018-11-21  2685930000  Etherium  \n",
      "2018-11-22  1792150000  Etherium  \n",
      "2018-11-23  1998010000  Etherium  \n"
     ]
    }
   ],
   "source": [
    "data = pd.read_csv('ETH-BTC-USD.csv', parse_dates=True, index_col=0, nrows=10)\n",
    "print(data)"
   ]
  }
 ],
 "metadata": {
  "kernelspec": {
   "display_name": "Python 3 (ipykernel)",
   "language": "python",
   "name": "python3"
  },
  "language_info": {
   "codemirror_mode": {
    "name": "ipython",
    "version": 3
   },
   "file_extension": ".py",
   "mimetype": "text/x-python",
   "name": "python",
   "nbconvert_exporter": "python",
   "pygments_lexer": "ipython3",
   "version": "3.12.1"
  },
  "widgets": {
   "application/vnd.jupyter.widget-state+json": {
    "state": {},
    "version_major": 2,
    "version_minor": 0
   }
  }
 },
 "nbformat": 4,
 "nbformat_minor": 5
}
