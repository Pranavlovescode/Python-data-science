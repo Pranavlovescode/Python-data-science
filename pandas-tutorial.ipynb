{
 "cells": [
  {
   "cell_type": "markdown",
   "id": "bd3f05e2",
   "metadata": {},
   "source": [
    "## Install Pandas\n",
    "pip install pandas\n"
   ]
  },
  {
   "cell_type": "code",
   "execution_count": 7,
   "id": "9084a504-ceef-4009-a2e2-af4f02a8ea89",
   "metadata": {},
   "outputs": [
    {
     "name": "stdout",
     "output_type": "stream",
     "text": [
      "     Pregnancies     Glucose  BloodPressure  SkinThickness     Insulin  \\\n",
      "0              2  115.863387      56.410731      24.336736   94.385783   \n",
      "1              2   92.490122      70.615520      23.443591  138.652426   \n",
      "2              1   88.141469      63.262618      23.404364  149.358082   \n",
      "3              2  108.453101      67.793632      20.751580  108.751638   \n",
      "4              1  127.849443      94.725685      22.603078   25.269987   \n",
      "..           ...         ...            ...            ...         ...   \n",
      "995            1  103.496355      41.059401      24.930299   43.675978   \n",
      "996            1   60.714150      64.082842      24.689064  111.562745   \n",
      "997            0   97.597727      64.122312      22.140339  108.138552   \n",
      "998            0   66.775137      55.908797      24.885274  219.521484   \n",
      "999            0   87.647268      69.111593      25.621266  134.335745   \n",
      "\n",
      "           BMI  DiabetesPedigreeFunction        Age  Diagnosis  \n",
      "0    26.455940                  0.272682  20.100494          0  \n",
      "1    23.910167                  0.665160  44.912281          0  \n",
      "2    21.948250                  0.676022  48.247873          1  \n",
      "3    24.209304                  0.289636  42.749868          0  \n",
      "4    32.997477                  0.601315  32.797789          0  \n",
      "..         ...                       ...        ...        ...  \n",
      "995  25.846062                  0.455884  19.905419          0  \n",
      "996  19.464280                  0.250560  44.421874          1  \n",
      "997  22.733052                  0.761463  58.949800          1  \n",
      "998  31.819187                  0.382877  46.928923          0  \n",
      "999  31.098746                  0.605828  41.785889          1  \n",
      "\n",
      "[1000 rows x 9 columns]\n"
     ]
    }
   ],
   "source": [
    "import pandas as pd\n",
    "df = pd.read_csv('Diabetes_prediction.csv')\n",
    "print(df)"
   ]
  },
  {
   "cell_type": "markdown",
   "id": "ee477ecc",
   "metadata": {},
   "source": [
    "## Reading data from .csv file and displaying it in form of table.\n"
   ]
  },
  {
   "cell_type": "code",
   "execution_count": 7,
   "id": "45623f5e-154e-43dd-bf56-b636c12c270e",
   "metadata": {},
   "outputs": [
    {
     "name": "stdout",
     "output_type": "stream",
     "text": [
      "Open         float64\n",
      "High         float64\n",
      "Low          float64\n",
      "Close        float64\n",
      "Adj Close    float64\n",
      "Volume         int64\n",
      "Currency      object\n",
      "dtype: object\n",
      "                  Open        High         Low       Close   Adj Close  \\\n",
      "Date                                                                     \n",
      "2018-11-14  206.533997  207.044998  174.084000  181.397003  181.397003   \n",
      "2018-11-15  181.899002  184.251007  170.188995  180.806000  180.806000   \n",
      "2018-11-16  180.865005  181.350006  173.126007  175.177002  175.177002   \n",
      "2018-11-17  175.360001  175.850998  172.869003  174.001007  174.001007   \n",
      "2018-11-18  174.175003  179.151993  174.175003  177.067001  177.067001   \n",
      "2018-11-19  177.179001  177.179001  147.850998  149.175003  149.175003   \n",
      "2018-11-20  148.811005  151.253006  126.360001  130.339005  130.339005   \n",
      "2018-11-21  131.141998  138.889999  125.758003  136.701004  136.701004   \n",
      "2018-11-22  136.811005  137.740005  126.706001  126.706001  126.706001   \n",
      "2018-11-23  126.418999  127.028000  119.558998  123.295998  123.295998   \n",
      "\n",
      "                Volume  Currency  \n",
      "Date                              \n",
      "2018-11-14  2595330000  Etherium  \n",
      "2018-11-15  2638410000  Etherium  \n",
      "2018-11-16  2015330000  Etherium  \n",
      "2018-11-17  1832800000  Etherium  \n",
      "2018-11-18  1810920000  Etherium  \n",
      "2018-11-19  2745160000  Etherium  \n",
      "2018-11-20  3134410000  Etherium  \n",
      "2018-11-21  2685930000  Etherium  \n",
      "2018-11-22  1792150000  Etherium  \n",
      "2018-11-23  1998010000  Etherium  \n",
      "<class 'pandas.core.frame.DataFrame'>\n",
      "DatetimeIndex: 10 entries, 2018-11-14 to 2018-11-23\n",
      "Data columns (total 7 columns):\n",
      " #   Column     Non-Null Count  Dtype  \n",
      "---  ------     --------------  -----  \n",
      " 0   Open       10 non-null     float64\n",
      " 1   High       10 non-null     float64\n",
      " 2   Low        10 non-null     float64\n",
      " 3   Close      10 non-null     float64\n",
      " 4   Adj Close  10 non-null     float64\n",
      " 5   Volume     10 non-null     int64  \n",
      " 6   Currency   10 non-null     object \n",
      "dtypes: float64(5), int64(1), object(1)\n",
      "memory usage: 640.0+ bytes\n",
      "None\n"
     ]
    }
   ],
   "source": [
    "import pandas as pd\n",
    "bitcoin_data = pd.read_csv('ETH-BTC-USD.csv', parse_dates=True, index_col=0, nrows=10)\n",
    "print(bitcoin_data.dtypes)\n",
    "print(bitcoin_data)\n",
    "print(bitcoin_data.info())\n"
   ]
  },
  {
   "cell_type": "markdown",
   "id": "6f1e239b",
   "metadata": {},
   "source": [
    "# Converting the datatype of the variables in dataframe"
   ]
  },
  {
   "cell_type": "code",
   "execution_count": 9,
   "id": "7f20be32",
   "metadata": {},
   "outputs": [
    {
     "name": "stdout",
     "output_type": "stream",
     "text": [
      "Open         float64\n",
      "High         float64\n",
      "Low          float64\n",
      "Close        float64\n",
      "Adj Close    float64\n",
      "Volume       float64\n",
      "Currency      object\n",
      "dtype: object\n",
      "                  Open        High         Low       Close   Adj Close  \\\n",
      "Date                                                                     \n",
      "2018-11-14  206.533997  207.044998  174.084000  181.397003  181.397003   \n",
      "2018-11-15  181.899002  184.251007  170.188995  180.806000  180.806000   \n",
      "2018-11-16  180.865005  181.350006  173.126007  175.177002  175.177002   \n",
      "2018-11-17  175.360001  175.850998  172.869003  174.001007  174.001007   \n",
      "2018-11-18  174.175003  179.151993  174.175003  177.067001  177.067001   \n",
      "2018-11-19  177.179001  177.179001  147.850998  149.175003  149.175003   \n",
      "2018-11-20  148.811005  151.253006  126.360001  130.339005  130.339005   \n",
      "2018-11-21  131.141998  138.889999  125.758003  136.701004  136.701004   \n",
      "2018-11-22  136.811005  137.740005  126.706001  126.706001  126.706001   \n",
      "2018-11-23  126.418999  127.028000  119.558998  123.295998  123.295998   \n",
      "\n",
      "                  Volume  Currency  \n",
      "Date                                \n",
      "2018-11-14  2.595330e+09  Etherium  \n",
      "2018-11-15  2.638410e+09  Etherium  \n",
      "2018-11-16  2.015330e+09  Etherium  \n",
      "2018-11-17  1.832800e+09  Etherium  \n",
      "2018-11-18  1.810920e+09  Etherium  \n",
      "2018-11-19  2.745160e+09  Etherium  \n",
      "2018-11-20  3.134410e+09  Etherium  \n",
      "2018-11-21  2.685930e+09  Etherium  \n",
      "2018-11-22  1.792150e+09  Etherium  \n",
      "2018-11-23  1.998010e+09  Etherium  \n"
     ]
    }
   ],
   "source": [
    "bitcoin_data['Volume']=bitcoin_data['Volume'].astype('float')\n",
    "print(bitcoin_data.dtypes)\n",
    "print(bitcoin_data)"
   ]
  },
  {
   "cell_type": "markdown",
   "id": "9fe41d59",
   "metadata": {},
   "source": [
    "# Category VS Object datatype"
   ]
  },
  {
   "cell_type": "code",
   "execution_count": 18,
   "id": "527653ae",
   "metadata": {},
   "outputs": [
    {
     "name": "stdout",
     "output_type": "stream",
     "text": [
      "80\n",
      "Converted to category:\n",
      "18\n",
      "<class 'pandas.core.frame.DataFrame'>\n",
      "DatetimeIndex: 10 entries, 2018-11-14 to 2018-11-23\n",
      "Data columns (total 7 columns):\n",
      " #   Column     Non-Null Count  Dtype   \n",
      "---  ------     --------------  -----   \n",
      " 0   Open       10 non-null     float64 \n",
      " 1   High       10 non-null     float64 \n",
      " 2   Low        10 non-null     float64 \n",
      " 3   Close      10 non-null     float64 \n",
      " 4   Adj Close  10 non-null     float64 \n",
      " 5   Volume     10 non-null     float64 \n",
      " 6   Currency   10 non-null     category\n",
      "dtypes: category(1), float64(6)\n",
      "memory usage: 686.0 bytes\n",
      "None\n",
      "converted back to object\n",
      "<class 'pandas.core.frame.DataFrame'>\n",
      "DatetimeIndex: 10 entries, 2018-11-14 to 2018-11-23\n",
      "Data columns (total 7 columns):\n",
      " #   Column     Non-Null Count  Dtype  \n",
      "---  ------     --------------  -----  \n",
      " 0   Open       10 non-null     float64\n",
      " 1   High       10 non-null     float64\n",
      " 2   Low        10 non-null     float64\n",
      " 3   Close      10 non-null     float64\n",
      " 4   Adj Close  10 non-null     float64\n",
      " 5   Volume     10 non-null     float64\n",
      " 6   Currency   10 non-null     object \n",
      "dtypes: float64(6), object(1)\n",
      "memory usage: 640.0+ bytes\n",
      "None\n"
     ]
    }
   ],
   "source": [
    "print(bitcoin_data['Currency'].nbytes)\n",
    "bitcoin_data['Currency'] = bitcoin_data['Currency'].astype('category')\n",
    "print(\"Converted to category:\")\n",
    "print(bitcoin_data['Currency'].nbytes)\n",
    "print(bitcoin_data.info()) #gives the detail information of the dataframe\n",
    "print('converted back to object')\n",
    "bitcoin_data['Currency'] = bitcoin_data['Currency'].astype('object')\n",
    "print(bitcoin_data.info())"
   ]
  },
  {
   "cell_type": "markdown",
   "id": "910c1efa",
   "metadata": {},
   "source": [
    "# Cleaning of the 'doors'"
   ]
  },
  {
   "cell_type": "code",
   "execution_count": 38,
   "id": "bb482949",
   "metadata": {},
   "outputs": [
    {
     "name": "stdout",
     "output_type": "stream",
     "text": [
      "[None None None None None None None None None None]\n"
     ]
    },
    {
     "ename": "TypeError",
     "evalue": "'<' not supported between instances of 'NoneType' and 'NoneType'",
     "output_type": "error",
     "traceback": [
      "\u001b[1;31m---------------------------------------------------------------------------\u001b[0m",
      "\u001b[1;31mTypeError\u001b[0m                                 Traceback (most recent call last)",
      "Cell \u001b[1;32mIn[38], line 9\u001b[0m\n\u001b[0;32m      6\u001b[0m \u001b[38;5;66;03m# cleaning the data by using the replace function\u001b[39;00m\n\u001b[0;32m      7\u001b[0m bitcoin_data[\u001b[38;5;124m'\u001b[39m\u001b[38;5;124mCurrency\u001b[39m\u001b[38;5;124m'\u001b[39m]\u001b[38;5;241m.\u001b[39mreplace(\u001b[38;5;124m'\u001b[39m\u001b[38;5;124mEtherium\u001b[39m\u001b[38;5;124m'\u001b[39m, \u001b[38;5;124m'\u001b[39m\u001b[38;5;124mETH\u001b[39m\u001b[38;5;124m'\u001b[39m)\n\u001b[1;32m----> 9\u001b[0m \u001b[38;5;28mprint\u001b[39m(\u001b[43mnp\u001b[49m\u001b[38;5;241;43m.\u001b[39;49m\u001b[43munique\u001b[49m\u001b[43m(\u001b[49m\u001b[43mbitcoin_data\u001b[49m\u001b[43m[\u001b[49m\u001b[38;5;124;43m'\u001b[39;49m\u001b[38;5;124;43mCurrency\u001b[39;49m\u001b[38;5;124;43m'\u001b[39;49m\u001b[43m]\u001b[49m\u001b[43m)\u001b[49m)\n",
      "File \u001b[1;32m~\\AppData\\Local\\Programs\\Python\\Python312\\Lib\\site-packages\\numpy\\lib\\arraysetops.py:274\u001b[0m, in \u001b[0;36munique\u001b[1;34m(ar, return_index, return_inverse, return_counts, axis, equal_nan)\u001b[0m\n\u001b[0;32m    272\u001b[0m ar \u001b[38;5;241m=\u001b[39m np\u001b[38;5;241m.\u001b[39masanyarray(ar)\n\u001b[0;32m    273\u001b[0m \u001b[38;5;28;01mif\u001b[39;00m axis \u001b[38;5;129;01mis\u001b[39;00m \u001b[38;5;28;01mNone\u001b[39;00m:\n\u001b[1;32m--> 274\u001b[0m     ret \u001b[38;5;241m=\u001b[39m \u001b[43m_unique1d\u001b[49m\u001b[43m(\u001b[49m\u001b[43mar\u001b[49m\u001b[43m,\u001b[49m\u001b[43m \u001b[49m\u001b[43mreturn_index\u001b[49m\u001b[43m,\u001b[49m\u001b[43m \u001b[49m\u001b[43mreturn_inverse\u001b[49m\u001b[43m,\u001b[49m\u001b[43m \u001b[49m\u001b[43mreturn_counts\u001b[49m\u001b[43m,\u001b[49m\u001b[43m \u001b[49m\n\u001b[0;32m    275\u001b[0m \u001b[43m                    \u001b[49m\u001b[43mequal_nan\u001b[49m\u001b[38;5;241;43m=\u001b[39;49m\u001b[43mequal_nan\u001b[49m\u001b[43m)\u001b[49m\n\u001b[0;32m    276\u001b[0m     \u001b[38;5;28;01mreturn\u001b[39;00m _unpack_tuple(ret)\n\u001b[0;32m    278\u001b[0m \u001b[38;5;66;03m# axis was specified and not None\u001b[39;00m\n",
      "File \u001b[1;32m~\\AppData\\Local\\Programs\\Python\\Python312\\Lib\\site-packages\\numpy\\lib\\arraysetops.py:336\u001b[0m, in \u001b[0;36m_unique1d\u001b[1;34m(ar, return_index, return_inverse, return_counts, equal_nan)\u001b[0m\n\u001b[0;32m    334\u001b[0m     aux \u001b[38;5;241m=\u001b[39m ar[perm]\n\u001b[0;32m    335\u001b[0m \u001b[38;5;28;01melse\u001b[39;00m:\n\u001b[1;32m--> 336\u001b[0m     \u001b[43mar\u001b[49m\u001b[38;5;241;43m.\u001b[39;49m\u001b[43msort\u001b[49m\u001b[43m(\u001b[49m\u001b[43m)\u001b[49m\n\u001b[0;32m    337\u001b[0m     aux \u001b[38;5;241m=\u001b[39m ar\n\u001b[0;32m    338\u001b[0m mask \u001b[38;5;241m=\u001b[39m np\u001b[38;5;241m.\u001b[39mempty(aux\u001b[38;5;241m.\u001b[39mshape, dtype\u001b[38;5;241m=\u001b[39mnp\u001b[38;5;241m.\u001b[39mbool_)\n",
      "\u001b[1;31mTypeError\u001b[0m: '<' not supported between instances of 'NoneType' and 'NoneType'"
     ]
    }
   ],
   "source": [
    "import numpy as np\n",
    "\n",
    "# print(np.unique(bitcoin_data['Currency']))\n",
    "print(np.array(bitcoin_data['Currency']))\n",
    "\n",
    "# cleaning the data by using the replace function\n",
    "bitcoin_data['Currency'].replace('Etherium', 'ETH')\n",
    "\n",
    "print(np.unique(bitcoin_data['Currency']))"
   ]
  }
 ],
 "metadata": {
  "kernelspec": {
   "display_name": "Python 3 (ipykernel)",
   "language": "python",
   "name": "python3"
  },
  "language_info": {
   "codemirror_mode": {
    "name": "ipython",
    "version": 3
   },
   "file_extension": ".py",
   "mimetype": "text/x-python",
   "name": "python",
   "nbconvert_exporter": "python",
   "pygments_lexer": "ipython3",
   "version": "3.12.2"
  },
  "widgets": {
   "application/vnd.jupyter.widget-state+json": {
    "state": {},
    "version_major": 2,
    "version_minor": 0
   }
  }
 },
 "nbformat": 4,
 "nbformat_minor": 5
}
